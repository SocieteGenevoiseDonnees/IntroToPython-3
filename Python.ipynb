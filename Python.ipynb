{
  "nbformat": 4,
  "nbformat_minor": 0,
  "metadata": {
    "colab": {
      "name": "Python.ipynb",
      "version": "0.3.2",
      "provenance": []
    },
    "kernelspec": {
      "name": "python3",
      "display_name": "Python 3"
    }
  },
  "cells": [
    {
      "cell_type": "markdown",
      "metadata": {
        "id": "6D8Ke_lCEBAX",
        "colab_type": "text"
      },
      "source": [
        "![alt text](https://programwithus.com/media/products/pythonWebinar_k51NM2Q.jpg)\n",
        "# Get With the Program!\n",
        "\n",
        "Programming declares a list of operations. Why? It automates things. This means we can do things a lot of times very quickly. Or process lots of things in the same way. Let us get started!\n",
        "\n",
        "First we define some numbers. One is a number, the next a sum of integers and then a product of previous variables."
      ]
    },
    {
      "cell_type": "code",
      "metadata": {
        "id": "Zva57_RyDtVK",
        "colab_type": "code",
        "colab": {}
      },
      "source": [
        "A_Variable = 4\n",
        "A_Sum = 3.142 + 12\n",
        "A_Product = A_Variable * A_Sum"
      ],
      "execution_count": 0,
      "outputs": []
    },
    {
      "cell_type": "markdown",
      "metadata": {
        "id": "N04ZLyLrFnZT",
        "colab_type": "text"
      },
      "source": [
        "Take care! variables are case sensitive, need to be free of white space and are defined in order. Try to fix the lines below!"
      ]
    },
    {
      "cell_type": "code",
      "metadata": {
        "id": "m6ss3GT7EAHB",
        "colab_type": "code",
        "colab": {
          "base_uri": "https://localhost:8080/",
          "height": 130
        },
        "outputId": "7a0ca229-8063-44c0-d5b1-164877bbfe1b"
      },
      "source": [
        "A_New_Product = A_New_Variable * A_New_Sum\n",
        "A New Variable = 2.4\n",
        "a_new_sum = 1.141 + 10**2"
      ],
      "execution_count": 2,
      "outputs": [
        {
          "output_type": "error",
          "ename": "SyntaxError",
          "evalue": "ignored",
          "traceback": [
            "\u001b[0;36m  File \u001b[0;32m\"<ipython-input-2-13647dbd6c45>\"\u001b[0;36m, line \u001b[0;32m2\u001b[0m\n\u001b[0;31m    A New Variable = 2.4\u001b[0m\n\u001b[0m        ^\u001b[0m\n\u001b[0;31mSyntaxError\u001b[0m\u001b[0;31m:\u001b[0m invalid syntax\n"
          ]
        }
      ]
    },
    {
      "cell_type": "markdown",
      "metadata": {
        "id": "jENww7K_Gu8G",
        "colab_type": "text"
      },
      "source": [
        "Ok your turn! Python as a calculator! Make three of your own variables and tell them to perform a caluclation for you. \n",
        "\n",
        "*hint* how heavy would a whole football team of elephants be? or how much would you tip on an afternoon of corporate foot massages for your team retreat in the US?"
      ]
    },
    {
      "cell_type": "code",
      "metadata": {
        "id": "RLI5no_SGuD7",
        "colab_type": "code",
        "colab": {}
      },
      "source": [
        ""
      ],
      "execution_count": 0,
      "outputs": []
    },
    {
      "cell_type": "markdown",
      "metadata": {
        "id": "ew5Eg1vIJJnC",
        "colab_type": "text"
      },
      "source": [
        "## Rule one of programming club is make your own rules\n",
        "\n",
        "Python has a very simple set of logic already included. Try to understand the nature of `if`, `elif` and `else` the syntax for this is a question followed by a colon `:` if the answer to the question is positive any following lines that are offset by a tab or multiple spaces are executed otherwise the program skips until the next statement on the same level of indentation.... maybe just look at an example.\n",
        "\n",
        "First we define some variables."
      ]
    },
    {
      "cell_type": "code",
      "metadata": {
        "id": "bx-_8897JKBS",
        "colab_type": "code",
        "colab": {}
      },
      "source": [
        "is_witch = False\n",
        "number_of_warts = 1\n",
        "weight_kg = 56.\n",
        "weight_of_a_duck_kg = 1.6\n",
        "is_made_of_wood = \"do not know\""
      ],
      "execution_count": 0,
      "outputs": []
    },
    {
      "cell_type": "markdown",
      "metadata": {
        "id": "KHuT68QtKNa-",
        "colab_type": "text"
      },
      "source": [
        "now we make some rules to control the program flow"
      ]
    },
    {
      "cell_type": "code",
      "metadata": {
        "id": "2oVzoMuWKWqx",
        "colab_type": "code",
        "outputId": "c1786135-925f-46d4-95a4-acb3043119f3",
        "colab": {
          "base_uri": "https://localhost:8080/",
          "height": 34
        }
      },
      "source": [
        "if \"no\" not in is_made_of_wood:\n",
        "    is_witch = True\n",
        "elif number_of_warts > 0:\n",
        "    if weight_kg < 1.6 or weight_of_a_duck_kg >= 50:\n",
        "        is_witch = True\n",
        "else:\n",
        "    is_witch = False\n",
        "\n",
        "print(\"may we burn her?\", is_witch)"
      ],
      "execution_count": 4,
      "outputs": [
        {
          "output_type": "stream",
          "text": [
            "may we burn her? False\n"
          ],
          "name": "stdout"
        }
      ]
    },
    {
      "cell_type": "markdown",
      "metadata": {
        "id": "Wr8f-9hbHh04",
        "colab_type": "text"
      },
      "source": [
        "# Insanity is doing the same thing and expecting different results\n",
        "\n",
        "But above you said automating multiple tasks is the whole point of the program! Here we introduce containers. These come in several flavours but the most common are lists `[]` and dictionaries `{}`. \n",
        "\n",
        "## He's makin a list, and checkin it twice\n",
        "\n",
        "A list can be defined just like other variables."
      ]
    },
    {
      "cell_type": "code",
      "metadata": {
        "id": "IzCbeSGdGuSy",
        "colab_type": "code",
        "colab": {}
      },
      "source": [
        "a_list = [] # an empty list\n",
        "a_full_list = [3, 4, 1, 9.1, 3, \"frogs\", 4, [3, 7.9, \"jam\"], \"soot\", 4.9, \"spoons\"] "
      ],
      "execution_count": 0,
      "outputs": []
    },
    {
      "cell_type": "markdown",
      "metadata": {
        "id": "0r6xBn70Ms4s",
        "colab_type": "text"
      },
      "source": [
        "elements of a list can be accessed with their indices, **note** that indices start counting at 0 in python. "
      ]
    },
    {
      "cell_type": "code",
      "metadata": {
        "id": "zIYA8oSqGaam",
        "colab_type": "code",
        "outputId": "c4e4e48c-9e7c-49c6-f755-d2095be14b39",
        "colab": {
          "base_uri": "https://localhost:8080/",
          "height": 34
        }
      },
      "source": [
        "print(a_full_list[3])"
      ],
      "execution_count": 6,
      "outputs": [
        {
          "output_type": "stream",
          "text": [
            "9.1\n"
          ],
          "name": "stdout"
        }
      ]
    },
    {
      "cell_type": "markdown",
      "metadata": {
        "id": "xdUY8qnfNZfh",
        "colab_type": "text"
      },
      "source": [
        "Now we can do thing on all the items in a list. We've arrived at loops.\n",
        "\n",
        "in a loop as in a logic statement like `if` everything indented is executed, this time not once but as many times as the loop repeats.\n",
        "\n",
        "We can also add things to a list `a_list.append(thing_to_append)`"
      ]
    },
    {
      "cell_type": "code",
      "metadata": {
        "id": "whVyKl8OGieR",
        "colab_type": "code",
        "outputId": "5648d719-60e9-4d9f-fd68-f91eed90e610",
        "colab": {
          "base_uri": "https://localhost:8080/",
          "height": 204
        }
      },
      "source": [
        "for a_thing in a_full_list:\n",
        "  print(\"this thing is a\", a_thing)\n",
        "  a_list.append(a_thing * 2)"
      ],
      "execution_count": 7,
      "outputs": [
        {
          "output_type": "stream",
          "text": [
            "this thing is a 3\n",
            "this thing is a 4\n",
            "this thing is a 1\n",
            "this thing is a 9.1\n",
            "this thing is a 3\n",
            "this thing is a frogs\n",
            "this thing is a 4\n",
            "this thing is a [3, 7.9, 'jam']\n",
            "this thing is a soot\n",
            "this thing is a 4.9\n",
            "this thing is a spoons\n"
          ],
          "name": "stdout"
        }
      ]
    },
    {
      "cell_type": "markdown",
      "metadata": {
        "id": "1UUGjZoEOz3d",
        "colab_type": "text"
      },
      "source": [
        "Here we multiply each item by two and add them to the other list. Note that not all the variables are the same. Some are integers (whole numbers), some are floats (numbers with decimal points), some are strings (characters linked together with inverted commas `\" \"`) or even other lists. Python is very forgiving like that. Try to guess or work out what happens when we double the things that aren't numbers.\n",
        "\n",
        "remeber the index thing? let's try this out here. we can also use some easy access info about the lists. The length. We also use a list now over a custom list creator. `Range` which makes a list of integers from one number to another (or from zero if only one number is given) "
      ]
    },
    {
      "cell_type": "code",
      "metadata": {
        "id": "N3EdCt8dOdsz",
        "colab_type": "code",
        "outputId": "ea55a032-a5ee-461d-e8aa-d9cc4409fbf1",
        "colab": {
          "base_uri": "https://localhost:8080/",
          "height": 204
        }
      },
      "source": [
        "for an_index in range(len(a_list)):\n",
        "  print(a_list[an_index])"
      ],
      "execution_count": 8,
      "outputs": [
        {
          "output_type": "stream",
          "text": [
            "6\n",
            "8\n",
            "2\n",
            "18.2\n",
            "6\n",
            "frogsfrogs\n",
            "8\n",
            "[3, 7.9, 'jam', 3, 7.9, 'jam']\n",
            "sootsoot\n",
            "9.8\n",
            "spoonsspoons\n"
          ],
          "name": "stdout"
        }
      ]
    },
    {
      "cell_type": "markdown",
      "metadata": {
        "id": "bvT5CPRkRtDk",
        "colab_type": "text"
      },
      "source": [
        "## life lesson, don't be a dict\n",
        "\n",
        "dictionaries are like lists in that they contain other variables (or are empty) but they map one value to a key. like a dictionary right?"
      ]
    },
    {
      "cell_type": "code",
      "metadata": {
        "id": "V7qevh-YOuzQ",
        "colab_type": "code",
        "outputId": "dcc731c9-0f54-41ad-83b6-69c404a18c5e",
        "colab": {
          "base_uri": "https://localhost:8080/",
          "height": 34
        }
      },
      "source": [
        "one_to_four = {\"un\":1, \"deux\":2, \"trois\":3, \"quatre\":4}\n",
        "print(one_to_four[\"trois\"])"
      ],
      "execution_count": 9,
      "outputs": [
        {
          "output_type": "stream",
          "text": [
            "3\n"
          ],
          "name": "stdout"
        }
      ]
    },
    {
      "cell_type": "markdown",
      "metadata": {
        "id": "z5zFjLUQTRQh",
        "colab_type": "text"
      },
      "source": [
        "note that we now dont access them by integer but by their key. We can loop like them as before with some subtle diferences."
      ]
    },
    {
      "cell_type": "code",
      "metadata": {
        "id": "1MW4GqUPTOTV",
        "colab_type": "code",
        "outputId": "5e613169-d868-41b4-9899-97cc8e2a238c",
        "colab": {
          "base_uri": "https://localhost:8080/",
          "height": 85
        }
      },
      "source": [
        "for dictionary_items in one_to_four:\n",
        "  print(one_to_four[dictionary_items])"
      ],
      "execution_count": 10,
      "outputs": [
        {
          "output_type": "stream",
          "text": [
            "1\n",
            "2\n",
            "3\n",
            "4\n"
          ],
          "name": "stdout"
        }
      ]
    },
    {
      "cell_type": "code",
      "metadata": {
        "id": "UFiGUehsT3iL",
        "colab_type": "code",
        "outputId": "48b714d7-333a-43e3-afb1-c7a7dc2bccb6",
        "colab": {
          "base_uri": "https://localhost:8080/",
          "height": 85
        }
      },
      "source": [
        "for keys,values in zip(one_to_four.keys(),one_to_four.values()):\n",
        "  print(keys,\"=\",values)"
      ],
      "execution_count": 11,
      "outputs": [
        {
          "output_type": "stream",
          "text": [
            "un = 1\n",
            "deux = 2\n",
            "trois = 3\n",
            "quatre = 4\n"
          ],
          "name": "stdout"
        }
      ]
    },
    {
      "cell_type": "markdown",
      "metadata": {
        "id": "3dhCiB8FUhkc",
        "colab_type": "text"
      },
      "source": [
        "# Primes!\n",
        "\n",
        "## Question One: \n",
        "### For all numbers under 100 what is the largest number without common factors (prime numbers)?\n",
        "\n",
        "Hint - test for primes like:"
      ]
    },
    {
      "cell_type": "code",
      "metadata": {
        "id": "Hdia48N_UjwH",
        "colab_type": "code",
        "outputId": "818fe508-f99d-4528-991e-9773d0e0e7b9",
        "colab": {
          "base_uri": "https://localhost:8080/",
          "height": 34
        }
      },
      "source": [
        "i = 4\n",
        "if i%2 == 0:\n",
        "    print(\"divisible by two\")"
      ],
      "execution_count": 12,
      "outputs": [
        {
          "output_type": "stream",
          "text": [
            "divisible by two\n"
          ],
          "name": "stdout"
        }
      ]
    },
    {
      "cell_type": "markdown",
      "metadata": {
        "id": "ycn8tBpuUosj",
        "colab_type": "text"
      },
      "source": [
        "Hint - Loop over numbers and check if they are divisible by previous primes. If not add to a container."
      ]
    },
    {
      "cell_type": "code",
      "metadata": {
        "id": "AEimLOfBUlwK",
        "colab_type": "code",
        "colab": {}
      },
      "source": [
        "# your code goes here!"
      ],
      "execution_count": 0,
      "outputs": []
    },
    {
      "cell_type": "markdown",
      "metadata": {
        "id": "tbCFMtMVUt8o",
        "colab_type": "text"
      },
      "source": [
        "## Question Two:\n",
        "### a) For all common factors of non-primes under a hundred, which is the most common?\n",
        "\n",
        "### b) For all common factors of non-primes under a hundred, which is the largest?"
      ]
    },
    {
      "cell_type": "code",
      "metadata": {
        "id": "XDtA6K7KUxBH",
        "colab_type": "code",
        "colab": {}
      },
      "source": [
        "# your code goes here!"
      ],
      "execution_count": 0,
      "outputs": []
    },
    {
      "cell_type": "markdown",
      "metadata": {
        "id": "p8j_6xHAVHVO",
        "colab_type": "text"
      },
      "source": [
        "# Who Got the Func?\n",
        "\n",
        "ok great logic, loops, containers? but its very messy. isn't there a better way? is it always so linear? isn't there a *insert chorus here* type option?\n",
        "\n",
        "## Inline Functions\n",
        "\n",
        "defined using the itentifier `def` functions have a name and a set of parentheses to denote inputs... complex? its really not that bad. Let's see an example."
      ]
    },
    {
      "cell_type": "code",
      "metadata": {
        "id": "S4Xn7mr-VDS9",
        "colab_type": "code",
        "colab": {}
      },
      "source": [
        "def check_echo(word, number):\n",
        "  echo = word * number\n",
        "  return echo"
      ],
      "execution_count": 0,
      "outputs": []
    },
    {
      "cell_type": "code",
      "metadata": {
        "id": "DAiMf9zBFkkB",
        "colab_type": "code",
        "outputId": "3b0e9eae-4b8c-4845-e943-5d828802dcff",
        "colab": {
          "base_uri": "https://localhost:8080/",
          "height": 34
        }
      },
      "source": [
        "check_echo(\"echo\",4)"
      ],
      "execution_count": 16,
      "outputs": [
        {
          "output_type": "execute_result",
          "data": {
            "text/plain": [
              "'echoechoechoecho'"
            ]
          },
          "metadata": {
            "tags": []
          },
          "execution_count": 16
        }
      ]
    },
    {
      "cell_type": "markdown",
      "metadata": {
        "id": "HNnGa-QjHBuc",
        "colab_type": "text"
      },
      "source": [
        "It doesn't even need to have inputs or a return statement"
      ]
    },
    {
      "cell_type": "code",
      "metadata": {
        "id": "as2ogq68FrVD",
        "colab_type": "code",
        "colab": {}
      },
      "source": [
        "def chorus():\n",
        "  lyrics = \"\"\"\n",
        "  I'm a lumberjack and I'm OK\n",
        "  I sleep all night and I work all day\n",
        "  He's a lumberjack and he's OK\n",
        "  He sleeps all night and he works all day\n",
        "  \"\"\"\n",
        "  print(lyrics)"
      ],
      "execution_count": 0,
      "outputs": []
    },
    {
      "cell_type": "code",
      "metadata": {
        "id": "m-QrI42LHupe",
        "colab_type": "code",
        "outputId": "7a6f9c7c-10a5-4513-aba6-727eae15c8ab",
        "colab": {
          "base_uri": "https://localhost:8080/",
          "height": 527
        }
      },
      "source": [
        "chorus()\n",
        "print(\"I cut down trees, I eat my lunch\")\n",
        "print(\"I go to the lavatory\")\n",
        "print(\"On Wednesdays I go shopping and have buttered scones for tea\")\n",
        "print(\"He cuts down trees, he eat his lunch\")\n",
        "print(\"He goes to the lavatory\")\n",
        "print(\"On Wednesdays he goes shopping and has buttered scones for tea\")\n",
        "chorus()\n",
        "print(\"I cut down trees, I skip and jump\")\n",
        "print(\"I like to press wild flowers\")\n",
        "print(\"I put on women's clothing and hang around in bars\")\n",
        "print(\"He cuts down trees, he skips and jumps\")\n",
        "print(\"He likes to press wild flowers\")\n",
        "print(\"He puts on women's clothing and hangs around in bars\")\n",
        "chorus()"
      ],
      "execution_count": 18,
      "outputs": [
        {
          "output_type": "stream",
          "text": [
            "\n",
            "  I'm a lumberjack and I'm OK\n",
            "  I sleep all night and I work all day\n",
            "  He's a lumberjack and he's OK\n",
            "  He sleeps all night and he works all day\n",
            "  \n",
            "I cut down trees, I eat my lunch\n",
            "I go to the lavatory\n",
            "On Wednesdays I go shopping and have buttered scones for tea\n",
            "He cuts down trees, he eat his lunch\n",
            "He goes to the lavatory\n",
            "On Wednesdays he goes shopping and has buttered scones for tea\n",
            "\n",
            "  I'm a lumberjack and I'm OK\n",
            "  I sleep all night and I work all day\n",
            "  He's a lumberjack and he's OK\n",
            "  He sleeps all night and he works all day\n",
            "  \n",
            "I cut down trees, I skip and jump\n",
            "I like to press wild flowers\n",
            "I put on women's clothing and hang around in bars\n",
            "He cuts down trees, he skips and jumps\n",
            "He likes to press wild flowers\n",
            "He puts on women's clothing and hangs around in bars\n",
            "\n",
            "  I'm a lumberjack and I'm OK\n",
            "  I sleep all night and I work all day\n",
            "  He's a lumberjack and he's OK\n",
            "  He sleeps all night and he works all day\n",
            "  \n"
          ],
          "name": "stdout"
        }
      ]
    },
    {
      "cell_type": "markdown",
      "metadata": {
        "id": "bvNfKtgSN4do",
        "colab_type": "text"
      },
      "source": [
        "# Numpy!\n",
        "![alt text](https://upload.wikimedia.org/wikipedia/commons/thumb/1/1a/NumPy_logo.svg/1200px-NumPy_logo.svg.png)\n",
        "\n",
        "installed libraries are conduits for functions and classes. We will use several of these today. This is the first!\n",
        "\n",
        "We import libraries with the word 'import'. Easy huh?"
      ]
    },
    {
      "cell_type": "code",
      "metadata": {
        "id": "YCpkcRmKHv9b",
        "colab_type": "code",
        "colab": {}
      },
      "source": [
        "import numpy as np"
      ],
      "execution_count": 0,
      "outputs": []
    },
    {
      "cell_type": "markdown",
      "metadata": {
        "id": "iex0tGXLOnf5",
        "colab_type": "text"
      },
      "source": [
        "## Why Numpy?\n",
        "\n",
        "### Numpy makes python fast!\n",
        "\n",
        "Python is considered slow because it is an interpreted language. In each loop type comparisons and function overloading factors into the run time. Numpy type casts the array elements and pushes the overloading deep down into the compiled (fortran) core of the library. This allows for a roughly 100x speed up on all iterative, low level operations.\n",
        "\n",
        "### Numpy is easy.\n",
        "\n",
        "it makes selecting items from lists much easier. Generating data is also really easy with numpy, but more on that later."
      ]
    },
    {
      "cell_type": "code",
      "metadata": {
        "id": "gcg-wfyOPRvU",
        "colab_type": "code",
        "outputId": "38e3302e-a261-43cf-b8b8-12613783202f",
        "colab": {
          "base_uri": "https://localhost:8080/",
          "height": 34
        }
      },
      "source": [
        "# Pure python\n",
        "a = [1 , 2, 3, 4, 5, 6, 7 , 8, 9, 10]\n",
        "b = [i + 5 for i in a]\n",
        "print(b)"
      ],
      "execution_count": 20,
      "outputs": [
        {
          "output_type": "stream",
          "text": [
            "[6, 7, 8, 9, 10, 11, 12, 13, 14, 15]\n"
          ],
          "name": "stdout"
        }
      ]
    },
    {
      "cell_type": "code",
      "metadata": {
        "id": "oFsfW4NgPX7z",
        "colab_type": "code",
        "outputId": "d3975329-fd2f-4a30-82ae-ded5e4567e3a",
        "colab": {
          "base_uri": "https://localhost:8080/",
          "height": 34
        }
      },
      "source": [
        "a = np.array(a)\n",
        "b = a + 5\n",
        "print(b)"
      ],
      "execution_count": 21,
      "outputs": [
        {
          "output_type": "stream",
          "text": [
            "[ 6  7  8  9 10 11 12 13 14 15]\n"
          ],
          "name": "stdout"
        }
      ]
    },
    {
      "cell_type": "markdown",
      "metadata": {
        "id": "3spG6rYPP166",
        "colab_type": "text"
      },
      "source": [
        "#### Numpy can be used for most operators\n",
        "\n",
        "Arithmetic operators: + - * / // % **\n",
        "\n",
        "Bitwise operators: & | ~ ^ >> <<\n",
        "\n",
        "Comparison operators: < > <= >= == !=\n",
        "\n",
        "Trigonometric functions: np.sin, np.cos, np.tan, etc\n",
        "\n",
        "Exponents: np.exp, np.log, np.log10, etc\n"
      ]
    },
    {
      "cell_type": "code",
      "metadata": {
        "id": "LY_FCZyEPi5n",
        "colab_type": "code",
        "outputId": "3ed6332a-0459-43e5-fc9a-911869b0b334",
        "colab": {
          "base_uri": "https://localhost:8080/",
          "height": 105
        }
      },
      "source": [
        "a = range(10)\n",
        "b = range(10,20)\n",
        "c = range(20,40)\n",
        "d = range(100)\n",
        "\n",
        "a1 = np.array(a)\n",
        "b1 = np.array(b)\n",
        "c1 = np.array(c)\n",
        "d1 = np.array(d)\n",
        "\n",
        "print(min(a),a1.min())\n",
        "print(max(b),b1.max())\n",
        "print(sum(c),c1.max())\n",
        "print(sum(d)/len(d),d1.mean())"
      ],
      "execution_count": 22,
      "outputs": [
        {
          "output_type": "stream",
          "text": [
            "0 0\n",
            "19 19\n",
            "590 39\n",
            "49.5 49.5\n"
          ],
          "name": "stdout"
        }
      ]
    },
    {
      "cell_type": "markdown",
      "metadata": {
        "id": "A78ThfveRU2m",
        "colab_type": "text"
      },
      "source": [
        "#### Numpy can be used for things that regular arrays can't\n",
        "\n",
        "e.g masking\n"
      ]
    },
    {
      "cell_type": "code",
      "metadata": {
        "id": "xujoKTapRIj3",
        "colab_type": "code",
        "outputId": "081eee60-ec54-4d3b-d435-4a507bda689c",
        "colab": {
          "base_uri": "https://localhost:8080/",
          "height": 54
        }
      },
      "source": [
        "a = np.array([1, 2, 3, 4])\n",
        "mask = np.array([True, False, True, False]) \n",
        "print(a[mask])"
      ],
      "execution_count": 23,
      "outputs": [
        {
          "output_type": "stream",
          "text": [
            "[1 3]\n"
          ],
          "name": "stdout"
        }
      ]
    },
    {
      "cell_type": "code",
      "metadata": {
        "id": "o9ivHRbDRfzX",
        "colab_type": "code",
        "outputId": "27c64c98-8623-4f2b-87ff-3d7199d40382",
        "colab": {
          "base_uri": "https://localhost:8080/",
          "height": 54
        }
      },
      "source": [
        "b = np.array([5, 6, 7, 8, 9, 10, 11, 12, 13])\n",
        "mask = (b%2 == 0 ) & (b < 10 )\n",
        "print(b[mask])"
      ],
      "execution_count": 24,
      "outputs": [
        {
          "output_type": "stream",
          "text": [
            "[6 8]\n"
          ],
          "name": "stdout"
        }
      ]
    },
    {
      "cell_type": "markdown",
      "metadata": {
        "id": "jwir3sM6R5Kl",
        "colab_type": "text"
      },
      "source": [
        "### Combinations are endless!"
      ]
    },
    {
      "cell_type": "code",
      "metadata": {
        "id": "uinRStmdRjrj",
        "colab_type": "code",
        "outputId": "36da7c51-8c1a-40b5-8f81-ca6c8f4c0d3b",
        "colab": {
          "base_uri": "https://localhost:8080/",
          "height": 51
        }
      },
      "source": [
        "m = np.arange(6).reshape(2,3)\n",
        "print(m)\n"
      ],
      "execution_count": 25,
      "outputs": [
        {
          "output_type": "stream",
          "text": [
            "[[0 1 2]\n",
            " [3 4 5]]\n"
          ],
          "name": "stdout"
        }
      ]
    },
    {
      "cell_type": "code",
      "metadata": {
        "id": "J0EGf2MuSB2e",
        "colab_type": "code",
        "outputId": "434d4f41-e964-41ce-8459-71da8dc8ad69",
        "colab": {
          "base_uri": "https://localhost:8080/",
          "height": 34
        }
      },
      "source": [
        "print(m[m.sum(axis=1) > 4, 1:])"
      ],
      "execution_count": 26,
      "outputs": [
        {
          "output_type": "stream",
          "text": [
            "[[4 5]]\n"
          ],
          "name": "stdout"
        }
      ]
    },
    {
      "cell_type": "markdown",
      "metadata": {
        "id": "KiP0W2_BS14d",
        "colab_type": "text"
      },
      "source": [
        "#### Want to know more? \n",
        "Numpy is neat, efficient and useful.\n",
        "[machinelearningplus.com](https://www.machinelearningplus.com/python/101-numpy-exercises-python/) has 101 numpy problems and solutions to test yourself"
      ]
    },
    {
      "cell_type": "markdown",
      "metadata": {
        "id": "TFPA0yEXTXiq",
        "colab_type": "text"
      },
      "source": [
        "# Pandas!\n",
        "![alt text](https://pandas.pydata.org/_static/pandas_logo.png)\n",
        "\n",
        "Name comes from “panel data” is a data analysis library built on top of numpy! It is a standard tool for reading, cleaning, and manipulating data.\n",
        "\n",
        "Import the library just as before"
      ]
    },
    {
      "cell_type": "code",
      "metadata": {
        "id": "GQj9QJKgSDRz",
        "colab_type": "code",
        "colab": {}
      },
      "source": [
        "import pandas\n",
        "df = pandas.read_csv(\"https://raw.githubusercontent.com/SocieteGenevoiseDonnees/MultivariateVisualisation/master/swiss.csv\")"
      ],
      "execution_count": 0,
      "outputs": []
    },
    {
      "cell_type": "markdown",
      "metadata": {
        "id": "gLbMVzLzVrP5",
        "colab_type": "text"
      },
      "source": [
        "here we have pointed our dataframe (a fancy container for datasets) at a dataset. This is just a simple file of comma separated values (csv) but other formats are supported too.\n",
        "\n",
        "now we can look at and sumarise our data"
      ]
    },
    {
      "cell_type": "code",
      "metadata": {
        "id": "rpEdTcyPVn_7",
        "colab_type": "code",
        "outputId": "add3cb21-24be-4115-d4ca-3b8ebc6e46fc",
        "colab": {
          "base_uri": "https://localhost:8080/",
          "height": 278
        }
      },
      "source": [
        "df.head()"
      ],
      "execution_count": 28,
      "outputs": [
        {
          "output_type": "execute_result",
          "data": {
            "text/html": [
              "<div>\n",
              "<style scoped>\n",
              "    .dataframe tbody tr th:only-of-type {\n",
              "        vertical-align: middle;\n",
              "    }\n",
              "\n",
              "    .dataframe tbody tr th {\n",
              "        vertical-align: top;\n",
              "    }\n",
              "\n",
              "    .dataframe thead th {\n",
              "        text-align: right;\n",
              "    }\n",
              "</style>\n",
              "<table border=\"1\" class=\"dataframe\">\n",
              "  <thead>\n",
              "    <tr style=\"text-align: right;\">\n",
              "      <th></th>\n",
              "      <th>Unnamed: 0</th>\n",
              "      <th>Fertility</th>\n",
              "      <th>Agriculture</th>\n",
              "      <th>Examination</th>\n",
              "      <th>Education</th>\n",
              "      <th>Catholic</th>\n",
              "      <th>Infant.Mortality</th>\n",
              "    </tr>\n",
              "  </thead>\n",
              "  <tbody>\n",
              "    <tr>\n",
              "      <th>0</th>\n",
              "      <td>Courtelary</td>\n",
              "      <td>80.2</td>\n",
              "      <td>17.0</td>\n",
              "      <td>15</td>\n",
              "      <td>12</td>\n",
              "      <td>9.96</td>\n",
              "      <td>22.2</td>\n",
              "    </tr>\n",
              "    <tr>\n",
              "      <th>1</th>\n",
              "      <td>Delemont</td>\n",
              "      <td>83.1</td>\n",
              "      <td>45.1</td>\n",
              "      <td>6</td>\n",
              "      <td>9</td>\n",
              "      <td>84.84</td>\n",
              "      <td>22.2</td>\n",
              "    </tr>\n",
              "    <tr>\n",
              "      <th>2</th>\n",
              "      <td>Franches-Mnt</td>\n",
              "      <td>92.5</td>\n",
              "      <td>39.7</td>\n",
              "      <td>5</td>\n",
              "      <td>5</td>\n",
              "      <td>93.40</td>\n",
              "      <td>20.2</td>\n",
              "    </tr>\n",
              "    <tr>\n",
              "      <th>3</th>\n",
              "      <td>Moutier</td>\n",
              "      <td>85.8</td>\n",
              "      <td>36.5</td>\n",
              "      <td>12</td>\n",
              "      <td>7</td>\n",
              "      <td>33.77</td>\n",
              "      <td>20.3</td>\n",
              "    </tr>\n",
              "    <tr>\n",
              "      <th>4</th>\n",
              "      <td>Neuveville</td>\n",
              "      <td>76.9</td>\n",
              "      <td>43.5</td>\n",
              "      <td>17</td>\n",
              "      <td>15</td>\n",
              "      <td>5.16</td>\n",
              "      <td>20.6</td>\n",
              "    </tr>\n",
              "  </tbody>\n",
              "</table>\n",
              "</div>"
            ],
            "text/plain": [
              "     Unnamed: 0  Fertility  Agriculture  ...  Education  Catholic  Infant.Mortality\n",
              "0    Courtelary       80.2         17.0  ...         12      9.96              22.2\n",
              "1      Delemont       83.1         45.1  ...          9     84.84              22.2\n",
              "2  Franches-Mnt       92.5         39.7  ...          5     93.40              20.2\n",
              "3       Moutier       85.8         36.5  ...          7     33.77              20.3\n",
              "4    Neuveville       76.9         43.5  ...         15      5.16              20.6\n",
              "\n",
              "[5 rows x 7 columns]"
            ]
          },
          "metadata": {
            "tags": []
          },
          "execution_count": 28
        }
      ]
    },
    {
      "cell_type": "code",
      "metadata": {
        "id": "AYduZynwXBlF",
        "colab_type": "code",
        "outputId": "33382ec0-3aaa-47b3-a7db-1ce56639c9e7",
        "colab": {
          "base_uri": "https://localhost:8080/",
          "height": 756
        }
      },
      "source": [
        "h = df.hist(bins=6, figsize=(12,12))"
      ],
      "execution_count": 29,
      "outputs": [
        {
          "output_type": "display_data",
          "data": {
            "image/png": "[encoded data removed]",
            "text/plain": [
              "<Figure size 864x864 with 6 Axes>"
            ]
          },
          "metadata": {
            "tags": []
          }
        }
      ]
    },
    {
      "cell_type": "code",
      "metadata": {
        "id": "mA3LbV71XGBN",
        "colab_type": "code",
        "outputId": "4b081d67-f782-4910-adc4-c1a0d709042b",
        "colab": {
          "base_uri": "https://localhost:8080/",
          "height": 297
        }
      },
      "source": [
        "df.describe()"
      ],
      "execution_count": 30,
      "outputs": [
        {
          "output_type": "execute_result",
          "data": {
            "text/html": [
              "<div>\n",
              "<style scoped>\n",
              "    .dataframe tbody tr th:only-of-type {\n",
              "        vertical-align: middle;\n",
              "    }\n",
              "\n",
              "    .dataframe tbody tr th {\n",
              "        vertical-align: top;\n",
              "    }\n",
              "\n",
              "    .dataframe thead th {\n",
              "        text-align: right;\n",
              "    }\n",
              "</style>\n",
              "<table border=\"1\" class=\"dataframe\">\n",
              "  <thead>\n",
              "    <tr style=\"text-align: right;\">\n",
              "      <th></th>\n",
              "      <th>Fertility</th>\n",
              "      <th>Agriculture</th>\n",
              "      <th>Examination</th>\n",
              "      <th>Education</th>\n",
              "      <th>Catholic</th>\n",
              "      <th>Infant.Mortality</th>\n",
              "    </tr>\n",
              "  </thead>\n",
              "  <tbody>\n",
              "    <tr>\n",
              "      <th>count</th>\n",
              "      <td>47.000000</td>\n",
              "      <td>47.000000</td>\n",
              "      <td>47.000000</td>\n",
              "      <td>47.000000</td>\n",
              "      <td>47.00000</td>\n",
              "      <td>47.000000</td>\n",
              "    </tr>\n",
              "    <tr>\n",
              "      <th>mean</th>\n",
              "      <td>70.142553</td>\n",
              "      <td>50.659574</td>\n",
              "      <td>16.489362</td>\n",
              "      <td>10.978723</td>\n",
              "      <td>41.14383</td>\n",
              "      <td>19.942553</td>\n",
              "    </tr>\n",
              "    <tr>\n",
              "      <th>std</th>\n",
              "      <td>12.491697</td>\n",
              "      <td>22.711218</td>\n",
              "      <td>7.977883</td>\n",
              "      <td>9.615407</td>\n",
              "      <td>41.70485</td>\n",
              "      <td>2.912697</td>\n",
              "    </tr>\n",
              "    <tr>\n",
              "      <th>min</th>\n",
              "      <td>35.000000</td>\n",
              "      <td>1.200000</td>\n",
              "      <td>3.000000</td>\n",
              "      <td>1.000000</td>\n",
              "      <td>2.15000</td>\n",
              "      <td>10.800000</td>\n",
              "    </tr>\n",
              "    <tr>\n",
              "      <th>25%</th>\n",
              "      <td>64.700000</td>\n",
              "      <td>35.900000</td>\n",
              "      <td>12.000000</td>\n",
              "      <td>6.000000</td>\n",
              "      <td>5.19500</td>\n",
              "      <td>18.150000</td>\n",
              "    </tr>\n",
              "    <tr>\n",
              "      <th>50%</th>\n",
              "      <td>70.400000</td>\n",
              "      <td>54.100000</td>\n",
              "      <td>16.000000</td>\n",
              "      <td>8.000000</td>\n",
              "      <td>15.14000</td>\n",
              "      <td>20.000000</td>\n",
              "    </tr>\n",
              "    <tr>\n",
              "      <th>75%</th>\n",
              "      <td>78.450000</td>\n",
              "      <td>67.650000</td>\n",
              "      <td>22.000000</td>\n",
              "      <td>12.000000</td>\n",
              "      <td>93.12500</td>\n",
              "      <td>21.700000</td>\n",
              "    </tr>\n",
              "    <tr>\n",
              "      <th>max</th>\n",
              "      <td>92.500000</td>\n",
              "      <td>89.700000</td>\n",
              "      <td>37.000000</td>\n",
              "      <td>53.000000</td>\n",
              "      <td>100.00000</td>\n",
              "      <td>26.600000</td>\n",
              "    </tr>\n",
              "  </tbody>\n",
              "</table>\n",
              "</div>"
            ],
            "text/plain": [
              "       Fertility  Agriculture  ...   Catholic  Infant.Mortality\n",
              "count  47.000000    47.000000  ...   47.00000         47.000000\n",
              "mean   70.142553    50.659574  ...   41.14383         19.942553\n",
              "std    12.491697    22.711218  ...   41.70485          2.912697\n",
              "min    35.000000     1.200000  ...    2.15000         10.800000\n",
              "25%    64.700000    35.900000  ...    5.19500         18.150000\n",
              "50%    70.400000    54.100000  ...   15.14000         20.000000\n",
              "75%    78.450000    67.650000  ...   93.12500         21.700000\n",
              "max    92.500000    89.700000  ...  100.00000         26.600000\n",
              "\n",
              "[8 rows x 6 columns]"
            ]
          },
          "metadata": {
            "tags": []
          },
          "execution_count": 30
        }
      ]
    },
    {
      "cell_type": "markdown",
      "metadata": {
        "id": "aWKmRE_pXUl5",
        "colab_type": "text"
      },
      "source": [
        "### Selecting Columns\n",
        "Since pandas is built on numpy we can select data the same way."
      ]
    },
    {
      "cell_type": "code",
      "metadata": {
        "id": "Vs2o7q7_XN7N",
        "colab_type": "code",
        "outputId": "c25f86fd-ac7a-40f7-829c-9460252e1801",
        "colab": {
          "base_uri": "https://localhost:8080/",
          "height": 301
        }
      },
      "source": [
        "# 1. Create a list of columns to be selected\n",
        "columns_to_be_selected = [\"Education\", \"Examination\"]\n",
        "# 2. Use it as an index to the DataFrame\n",
        "slimmed = df[df[\"Catholic\"]>80][columns_to_be_selected]\n",
        "s = slimmed.hist(bins=6, figsize=(12,4))"
      ],
      "execution_count": 31,
      "outputs": [
        {
          "output_type": "display_data",
          "data": {
            "image/png": "[encoded data removed]",
            "text/plain": [
              "<Figure size 864x288 with 2 Axes>"
            ]
          },
          "metadata": {
            "tags": []
          }
        }
      ]
    },
    {
      "cell_type": "markdown",
      "metadata": {
        "id": "lBpfIMFiYmVE",
        "colab_type": "text"
      },
      "source": [
        "### Want to know more?\n",
        "Pandas is very useful for selecting  and cleaning our data. Download all the data! Load it into pandas!\n",
        "\n",
        "try with\n",
        "```\n",
        "https://raw.githubusercontent.com/SocieteGenevoiseDonnees/Getting-started/master/percent-bachelors-degrees-women-usa.csv\n",
        "```"
      ]
    },
    {
      "cell_type": "code",
      "metadata": {
        "id": "V7dKAiQ6XmSU",
        "colab_type": "code",
        "colab": {}
      },
      "source": [
        ""
      ],
      "execution_count": 0,
      "outputs": []
    },
    {
      "cell_type": "markdown",
      "metadata": {
        "id": "sJ_Sx6TDCEjc",
        "colab_type": "text"
      },
      "source": [
        "# Matplotlib and pyplot\n",
        "![alt text](https://matplotlib.org/_static/logo2.png)\n",
        "\n",
        "Here we have the standard plotting library in python!"
      ]
    },
    {
      "cell_type": "code",
      "metadata": {
        "id": "ENVJqiMpCXJL",
        "colab_type": "code",
        "colab": {}
      },
      "source": [
        "import matplotlib.pyplot as plt"
      ],
      "execution_count": 0,
      "outputs": []
    },
    {
      "cell_type": "markdown",
      "metadata": {
        "id": "qh_tT2exETD1",
        "colab_type": "text"
      },
      "source": [
        "Here's a way to cheat on the last excercise if you are falling behind."
      ]
    },
    {
      "cell_type": "code",
      "metadata": {
        "colab_type": "code",
        "id": "YUKhDNNxERKP",
        "colab": {}
      },
      "source": [
        "filename = \"https://raw.githubusercontent.com/SocieteGenevoiseDonnees/Getting-started/master/percent-bachelors-degrees-women-usa.csv\"\n",
        "data = pandas.read_csv(filename, usecols=['Year','Computer Science','Physical Sciences','Health Professions','Education'])"
      ],
      "execution_count": 0,
      "outputs": []
    },
    {
      "cell_type": "markdown",
      "metadata": {
        "id": "kQcSUn27GC5j",
        "colab_type": "text"
      },
      "source": [
        "We extract some pure numpy arrays from the data."
      ]
    },
    {
      "cell_type": "code",
      "metadata": {
        "id": "O7YvKSD5CriI",
        "colab_type": "code",
        "colab": {}
      },
      "source": [
        "years = data['Year'].values\n",
        "physical_sciences = data['Physical Sciences'].values\n",
        "computer_science = data['Computer Science'].values\n",
        "education = data['Education'].values\n",
        "health = data['Health Professions'].values"
      ],
      "execution_count": 0,
      "outputs": []
    },
    {
      "cell_type": "markdown",
      "metadata": {
        "id": "h0EyLT2_GIEg",
        "colab_type": "text"
      },
      "source": [
        "and plot!"
      ]
    },
    {
      "cell_type": "code",
      "metadata": {
        "id": "cgclhftPDmS4",
        "colab_type": "code",
        "colab": {
          "base_uri": "https://localhost:8080/",
          "height": 269
        },
        "outputId": "e0386cc7-9d79-4103-8737-a10491fca610"
      },
      "source": [
        "# % of degrees awarded to women in the Physical Sciences\n",
        "plt.plot(years,physical_sciences,color='blue')\n",
        "\n",
        "# % of degrees awarded to women in Computer Science\n",
        "plt.plot(years, computer_science,color='red')\n",
        "\n",
        "# Display the plot\n",
        "plt.show()"
      ],
      "execution_count": 50,
      "outputs": [
        {
          "output_type": "display_data",
          "data": {
            "image/png": "[encoded data removed]",
            "text/plain": [
              "<Figure size 432x288 with 1 Axes>"
            ]
          },
          "metadata": {
            "tags": []
          }
        }
      ]
    },
    {
      "cell_type": "markdown",
      "metadata": {
        "id": "Oke9-yQFGLTa",
        "colab_type": "text"
      },
      "source": [
        "Simple as that, the rest is just adding options!\n",
        "\n",
        "let's make 2 plots side by side with some titles!"
      ]
    },
    {
      "cell_type": "code",
      "metadata": {
        "id": "PkYJ2C5yFIVd",
        "colab_type": "code",
        "colab": {
          "base_uri": "https://localhost:8080/",
          "height": 297
        },
        "outputId": "5a2df0ed-1be4-4dd4-cdff-822f51590f56"
      },
      "source": [
        "# Create a figure with 1x2 subplot and make the left subplot active\n",
        "plt.subplot(1,2,1)\n",
        "\n",
        "# % of degrees awarded to women in the Physical Sciences\n",
        "plt.plot(years, physical_sciences, color='blue')\n",
        "plt.title('Physical Sciences')\n",
        "\n",
        "# Make the right subplot active in the current 1x2 subplot grid\n",
        "plt.subplot(1,2,2)\n",
        "\n",
        "# % of degrees awarded to women in Computer Science\n",
        "plt.plot(years, computer_science, color='red')\n",
        "plt.title('Computer Science')\n",
        "\n",
        "# Use plt.tight_layout() to improve the spacing between subplots\n",
        "plt.tight_layout()\n",
        "plt.show()"
      ],
      "execution_count": 52,
      "outputs": [
        {
          "output_type": "display_data",
          "data": {
            "image/png": "[encoded data removed]",
            "text/plain": [
              "<Figure size 432x288 with 2 Axes>"
            ]
          },
          "metadata": {
            "tags": []
          }
        }
      ]
    },
    {
      "cell_type": "markdown",
      "metadata": {
        "id": "6IKQVprLGiMl",
        "colab_type": "text"
      },
      "source": [
        "Or 4?!?"
      ]
    },
    {
      "cell_type": "code",
      "metadata": {
        "id": "tKPF8ezYGY0s",
        "colab_type": "code",
        "colab": {
          "base_uri": "https://localhost:8080/",
          "height": 297
        },
        "outputId": "316a487d-f8e0-413e-b623-03b331b13443"
      },
      "source": [
        "# Create a figure with 2x2 subplot layout and make the top left subplot active\n",
        "plt.subplot(2,2,1)\n",
        "\n",
        "# Plot in blue the % of degrees awarded to women in the Physical Sciences\n",
        "plt.plot(years, physical_sciences, color='blue')\n",
        "plt.title('Physical Sciences')\n",
        "\n",
        "# Make the top right subplot active in the current 2x2 subplot grid \n",
        "plt.subplot(2,2,2)\n",
        "\n",
        "# Plot in red the % of degrees awarded to women in Computer Science\n",
        "plt.plot(years, computer_science, color='red')\n",
        "plt.title('Computer Science')\n",
        "\n",
        "# Make the bottom left subplot active in the current 2x2 subplot grid\n",
        "plt.subplot(2,2,3)\n",
        "\n",
        "# Plot in green the % of degrees awarded to women in Health Professions\n",
        "plt.plot(years, health, color='green')\n",
        "plt.title('Health Professions')\n",
        "\n",
        "# Make the bottom right subplot active in the current 2x2 subplot grid\n",
        "plt.subplot(2,2,4)\n",
        "\n",
        "# Plot in yellow the % of degrees awarded to women in Education\n",
        "plt.plot(years, education, color='yellow')\n",
        "plt.title('Education')\n",
        "\n",
        "# Improve the spacing between subplots and display them\n",
        "plt.tight_layout()\n",
        "plt.show()"
      ],
      "execution_count": 53,
      "outputs": [
        {
          "output_type": "display_data",
          "data": {
            "image/png": "[encoded data removed]",
            "text/plain": [
              "<Figure size 432x288 with 4 Axes>"
            ]
          },
          "metadata": {
            "tags": []
          }
        }
      ]
    },
    {
      "cell_type": "markdown",
      "metadata": {
        "id": "lDPMs9uCGn6D",
        "colab_type": "text"
      },
      "source": [
        "or with a legend!"
      ]
    },
    {
      "cell_type": "code",
      "metadata": {
        "id": "XiEBgPGyGkQr",
        "colab_type": "code",
        "colab": {
          "base_uri": "https://localhost:8080/",
          "height": 283
        },
        "outputId": "d34cf491-0247-40fa-8f2f-6b4fb9dfd407"
      },
      "source": [
        "# % of degrees awarded to women in the Physical Sciences\n",
        "plt.plot(years,physical_sciences,label='physical sciences',color='blue')\n",
        "\n",
        "# % of degrees awarded to women in Computer Science\n",
        "plt.plot(years, computer_science,label='computer science',color='red')\n",
        "\n",
        "# Display the plot\n",
        "plt.legend(fontsize=20)\n",
        "plt.xlabel(\"year\")\n",
        "plt.ylabel('number of degrees awarded')\n",
        "plt.show()"
      ],
      "execution_count": 54,
      "outputs": [
        {
          "output_type": "display_data",
          "data": {
            "image/png": "[encoded data removed]",
            "text/plain": [
              "<Figure size 432x288 with 1 Axes>"
            ]
          },
          "metadata": {
            "tags": []
          }
        }
      ]
    },
    {
      "cell_type": "markdown",
      "metadata": {
        "id": "p0u_9J6KG9Jz",
        "colab_type": "text"
      },
      "source": [
        "### Excercise: Make a bar graph of the values!"
      ]
    },
    {
      "cell_type": "code",
      "metadata": {
        "id": "L13x0sjnGp02",
        "colab_type": "code",
        "colab": {}
      },
      "source": [
        ""
      ],
      "execution_count": 0,
      "outputs": []
    },
    {
      "cell_type": "markdown",
      "metadata": {
        "id": "d8zQLcp6HJbA",
        "colab_type": "text"
      },
      "source": [
        "# Scikit Learn!\n",
        "![alt text](https://upload.wikimedia.org/wikipedia/commons/thumb/0/05/Scikit_learn_logo_small.svg/1920px-Scikit_learn_logo_small.svg.png)\n",
        "\n",
        "Machine learning time!! There are hundreds of classifiers and regressors in the scikit-learn package!\n",
        "\n",
        "used like\n",
        "```from sklearn import classifier\n",
        "clf = classifier(options)\n",
        "clf.fit(training_data, training_target)\n",
        "prediction = clf.predict(test_data)\n",
        "rms_error = np.mean(np.pow((prediction - test_target), 2))\n",
        "```"
      ]
    },
    {
      "cell_type": "code",
      "metadata": {
        "id": "jYOh8JPPHcrn",
        "colab_type": "code",
        "colab": {}
      },
      "source": [
        "from sklearn.ensemble import AdaBoostClassifier\n",
        "from sklearn.tree import DecisionTreeClassifier\n",
        "from sklearn.datasets import make_gaussian_quantiles"
      ],
      "execution_count": 0,
      "outputs": []
    },
    {
      "cell_type": "code",
      "metadata": {
        "id": "FoW-b2riHwxW",
        "colab_type": "code",
        "colab": {
          "base_uri": "https://localhost:8080/",
          "height": 34
        },
        "outputId": "368ada3d-d26e-47de-e0f6-c7f7973ae6c7"
      },
      "source": [
        "# Construct dataset\n",
        "X1, y1 = make_gaussian_quantiles(mean=(1,1), cov=1,\n",
        "                                 n_samples=500, n_features=2,\n",
        "                                 n_classes=1, random_state=1)\n",
        "X2, y2 = make_gaussian_quantiles(mean=(-1, -1), cov=1,\n",
        "                                 n_samples=500, n_features=2,\n",
        "                                 n_classes=1, random_state=1)\n",
        "X = np.concatenate((X1, X2))\n",
        "\n",
        "y = np.concatenate((y1, - y2 + 1))\n",
        "X.shape"
      ],
      "execution_count": 56,
      "outputs": [
        {
          "output_type": "execute_result",
          "data": {
            "text/plain": [
              "(1000, 2)"
            ]
          },
          "metadata": {
            "tags": []
          },
          "execution_count": 56
        }
      ]
    },
    {
      "cell_type": "markdown",
      "metadata": {
        "id": "7QSPmNJzH16n",
        "colab_type": "text"
      },
      "source": [
        "### Excercise! Plot the 2D data!"
      ]
    },
    {
      "cell_type": "code",
      "metadata": {
        "id": "6-awHvbzHywW",
        "colab_type": "code",
        "colab": {}
      },
      "source": [
        ""
      ],
      "execution_count": 0,
      "outputs": []
    },
    {
      "cell_type": "code",
      "metadata": {
        "id": "MUJvycMYH-Wy",
        "colab_type": "code",
        "colab": {
          "base_uri": "https://localhost:8080/",
          "height": 312
        },
        "outputId": "cf733d76-e10c-44f4-9cdc-1d03df782ee5"
      },
      "source": [
        "# Create and fit an AdaBoosted decision tree\n",
        "bdt = AdaBoostClassifier(DecisionTreeClassifier(max_depth=1),\n",
        "                         algorithm=\"SAMME\",\n",
        "                         n_estimators=200)\n",
        "bdt.fit(X, y)"
      ],
      "execution_count": 57,
      "outputs": [
        {
          "output_type": "execute_result",
          "data": {
            "text/plain": [
              "AdaBoostClassifier(algorithm='SAMME',\n",
              "                   base_estimator=DecisionTreeClassifier(class_weight=None,\n",
              "                                                         criterion='gini',\n",
              "                                                         max_depth=1,\n",
              "                                                         max_features=None,\n",
              "                                                         max_leaf_nodes=None,\n",
              "                                                         min_impurity_decrease=0.0,\n",
              "                                                         min_impurity_split=None,\n",
              "                                                         min_samples_leaf=1,\n",
              "                                                         min_samples_split=2,\n",
              "                                                         min_weight_fraction_leaf=0.0,\n",
              "                                                         presort=False,\n",
              "                                                         random_state=None,\n",
              "                                                         splitter='best'),\n",
              "                   learning_rate=1.0, n_estimators=200, random_state=None)"
            ]
          },
          "metadata": {
            "tags": []
          },
          "execution_count": 57
        }
      ]
    },
    {
      "cell_type": "code",
      "metadata": {
        "id": "sWurIp7gH_jS",
        "colab_type": "code",
        "colab": {
          "base_uri": "https://localhost:8080/",
          "height": 429
        },
        "outputId": "8be7f0ee-f16e-4731-eda2-2b25e7cadbb7"
      },
      "source": [
        "plot_colors = \"br\"\n",
        "plot_step = 0.02\n",
        "class_names = \"AB\"\n",
        "\n",
        "plt.figure(figsize=(10, 5))\n",
        "\n",
        "# Plot the decision boundaries\n",
        "plt.subplot(121)\n",
        "x_min, x_max = X[:, 0].min() - 1, X[:, 0].max() + 1\n",
        "y_min, y_max = X[:, 1].min() - 1, X[:, 1].max() + 1\n",
        "xx, yy = np.meshgrid(np.arange(x_min, x_max, plot_step),\n",
        "                     np.arange(y_min, y_max, plot_step))\n",
        "\n",
        "Z = bdt.predict(np.c_[xx.ravel(), yy.ravel()])\n",
        "Z = Z.reshape(xx.shape)\n",
        "cs = plt.contourf(xx, yy, Z, cmap=plt.cm.Paired)\n",
        "plt.axis(\"tight\")\n",
        "\n",
        "# Plot the training points\n",
        "for i, n, c in zip(range(2), class_names, plot_colors):\n",
        "    idx = np.where(y == i)\n",
        "    plt.scatter(X[idx, 0], X[idx, 1],\n",
        "                c=c, cmap=plt.cm.Paired,\n",
        "                label=\"Class %s\" % n)\n",
        "plt.xlim(x_min, x_max)\n",
        "plt.ylim(y_min, y_max)\n",
        "plt.legend(loc='upper right')\n",
        "plt.xlabel('x')\n",
        "plt.ylabel('y')\n",
        "plt.title('Decision Boundary')\n",
        "\n",
        "# Plot the two-class decision scores\n",
        "twoclass_output = bdt.decision_function(X)\n",
        "plot_range = (twoclass_output.min(), twoclass_output.max())\n",
        "plt.subplot(122)\n",
        "for i, n, c in zip(range(2), class_names, plot_colors):\n",
        "    plt.hist(twoclass_output[y == i],\n",
        "             bins=10,\n",
        "             range=plot_range,\n",
        "             facecolor=c,\n",
        "             label='Class %s' % n,\n",
        "             alpha=.5)\n",
        "x1, x2, y1, y2 = plt.axis()\n",
        "plt.axis((x1, x2, y1, y2 * 1.2))\n",
        "plt.legend(loc='upper right')\n",
        "plt.ylabel('Samples')\n",
        "plt.xlabel('Score')\n",
        "plt.title('Decision Scores')\n",
        "\n",
        "plt.tight_layout()\n",
        "plt.subplots_adjust(wspace=0.35)\n",
        "plt.show()"
      ],
      "execution_count": 60,
      "outputs": [
        {
          "output_type": "display_data",
          "data": {
            "image/png": "[encoded data removed]",
            "text/plain": [
              "<Figure size 720x360 with 2 Axes>"
            ]
          },
          "metadata": {
            "tags": []
          }
        }
      ]
    },
    {
      "cell_type": "markdown",
      "metadata": {
        "id": "JmaIhiJgIIbe",
        "colab_type": "text"
      },
      "source": [
        "## Now on Iris dataset!\n",
        "\n",
        "Scikit-learn has many built in data-sets to test new algorithms on! "
      ]
    },
    {
      "cell_type": "code",
      "metadata": {
        "id": "lcZOgf77IB6X",
        "colab_type": "code",
        "colab": {}
      },
      "source": [
        "from sklearn import datasets\n",
        "iris = datasets.load_iris()"
      ],
      "execution_count": 0,
      "outputs": []
    },
    {
      "cell_type": "markdown",
      "metadata": {
        "id": "yz6tV6suIY54",
        "colab_type": "text"
      },
      "source": [
        "And some excellent tools for preparing your data for analysis!"
      ]
    },
    {
      "cell_type": "code",
      "metadata": {
        "id": "ddbtfq5aIWo7",
        "colab_type": "code",
        "colab": {}
      },
      "source": [
        "from sklearn.model_selection import train_test_split, cross_val_score\n",
        "\n",
        "num_test = 0.30\n",
        "X_train, X_valid, y_train, y_valid = train_test_split(\n",
        "    iris.data, iris.target, \n",
        "    test_size=num_test, \n",
        "    random_state=23\n",
        ")"
      ],
      "execution_count": 0,
      "outputs": []
    },
    {
      "cell_type": "markdown",
      "metadata": {
        "id": "NbRBuA3HIghO",
        "colab_type": "text"
      },
      "source": [
        "Let's a support vector machine classifier"
      ]
    },
    {
      "cell_type": "code",
      "metadata": {
        "id": "WtQiW8K7ImJ-",
        "colab_type": "code",
        "colab": {
          "base_uri": "https://localhost:8080/",
          "height": 85
        },
        "outputId": "8c7eb40e-9387-4fbe-9959-1d35a997e2b5"
      },
      "source": [
        "from sklearn import svm\n",
        "clf = svm.SVC(gamma=0.001, C=100.)\n",
        "clf.fit(X_train, y_train)"
      ],
      "execution_count": 64,
      "outputs": [
        {
          "output_type": "execute_result",
          "data": {
            "text/plain": [
              "SVC(C=100.0, cache_size=200, class_weight=None, coef0=0.0,\n",
              "    decision_function_shape='ovr', degree=3, gamma=0.001, kernel='rbf',\n",
              "    max_iter=-1, probability=False, random_state=None, shrinking=True,\n",
              "    tol=0.001, verbose=False)"
            ]
          },
          "metadata": {
            "tags": []
          },
          "execution_count": 64
        }
      ]
    },
    {
      "cell_type": "markdown",
      "metadata": {
        "id": "rQwE243yItht",
        "colab_type": "text"
      },
      "source": [
        "The cross validation library from scikits is use used to check the acuracy"
      ]
    },
    {
      "cell_type": "code",
      "metadata": {
        "id": "w_916sf1IqZH",
        "colab_type": "code",
        "colab": {
          "base_uri": "https://localhost:8080/",
          "height": 34
        },
        "outputId": "17ab894c-b68d-4193-ee43-3a2eed7d9ddb"
      },
      "source": [
        "cv_score = cross_val_score(clf,iris.data,iris.target, cv=5, scoring='accuracy')\n",
        "print(\"CV Score : Mean - %.3g +\\- %.4g (Min - %.3g, Max - %.3g)\" % (\n",
        "    np.mean(cv_score),\n",
        "    np.std(cv_score),\n",
        "    np.min(cv_score),\n",
        "    np.max(cv_score)\n",
        "    ))"
      ],
      "execution_count": 65,
      "outputs": [
        {
          "output_type": "stream",
          "text": [
            "CV Score : Mean - 0.98 +\\- 0.01633 (Min - 0.967, Max - 1)\n"
          ],
          "name": "stdout"
        }
      ]
    },
    {
      "cell_type": "markdown",
      "metadata": {
        "id": "O6_cKStJI9Zx",
        "colab_type": "text"
      },
      "source": [
        "### Compare with the BDT"
      ]
    },
    {
      "cell_type": "code",
      "metadata": {
        "id": "TyzhEM0WI7Vu",
        "colab_type": "code",
        "colab": {
          "base_uri": "https://localhost:8080/",
          "height": 312
        },
        "outputId": "26afa9dd-cf40-4148-8b39-13df1f241990"
      },
      "source": [
        "bdt = AdaBoostClassifier(DecisionTreeClassifier(max_depth=1),\n",
        "                         algorithm=\"SAMME\",\n",
        "                         n_estimators=200)\n",
        "bdt.fit(X_train, y_train)"
      ],
      "execution_count": 66,
      "outputs": [
        {
          "output_type": "execute_result",
          "data": {
            "text/plain": [
              "AdaBoostClassifier(algorithm='SAMME',\n",
              "                   base_estimator=DecisionTreeClassifier(class_weight=None,\n",
              "                                                         criterion='gini',\n",
              "                                                         max_depth=1,\n",
              "                                                         max_features=None,\n",
              "                                                         max_leaf_nodes=None,\n",
              "                                                         min_impurity_decrease=0.0,\n",
              "                                                         min_impurity_split=None,\n",
              "                                                         min_samples_leaf=1,\n",
              "                                                         min_samples_split=2,\n",
              "                                                         min_weight_fraction_leaf=0.0,\n",
              "                                                         presort=False,\n",
              "                                                         random_state=None,\n",
              "                                                         splitter='best'),\n",
              "                   learning_rate=1.0, n_estimators=200, random_state=None)"
            ]
          },
          "metadata": {
            "tags": []
          },
          "execution_count": 66
        }
      ]
    },
    {
      "cell_type": "code",
      "metadata": {
        "id": "AHB1o2opJCVQ",
        "colab_type": "code",
        "colab": {
          "base_uri": "https://localhost:8080/",
          "height": 34
        },
        "outputId": "39c8fb05-abfa-45eb-d62b-fa0bad2d3d5e"
      },
      "source": [
        "cv_score = cross_val_score(bdt,iris.data,iris.target, cv=5, scoring='accuracy')\n",
        "print(\"CV Score : Mean - %.3g +\\- %.4g (Min - %.3g, Max - %.3g)\" % (\n",
        "    np.mean(cv_score),\n",
        "    np.std(cv_score),\n",
        "    np.min(cv_score),\n",
        "    np.max(cv_score)\n",
        "    ))"
      ],
      "execution_count": 67,
      "outputs": [
        {
          "output_type": "stream",
          "text": [
            "CV Score : Mean - 0.947 +\\- 0.04 (Min - 0.9, Max - 1)\n"
          ],
          "name": "stdout"
        }
      ]
    },
    {
      "cell_type": "markdown",
      "metadata": {
        "id": "IG7leSQ5JFnR",
        "colab_type": "text"
      },
      "source": [
        "### Excercise: Given the Swiss dataset, can you guess which regions were primarily catholic at the time of the census? "
      ]
    },
    {
      "cell_type": "code",
      "metadata": {
        "id": "eZSivmj6JEMN",
        "colab_type": "code",
        "colab": {}
      },
      "source": [
        ""
      ],
      "execution_count": 0,
      "outputs": []
    },
    {
      "cell_type": "markdown",
      "metadata": {
        "id": "jXctqWYSJf26",
        "colab_type": "text"
      },
      "source": [
        "## Want to know more?\n",
        "\n",
        "https://www.kaggle.com\n",
        "![alt text](https://upload.wikimedia.org/wikipedia/commons/7/7c/Kaggle_logo.png)\n",
        "Kaggle is the world's largest community of data scientists and machine learners. Kaggle offers machine learning competitions and now also offers a public data platform, a cloud-based workbench for data science, and short form AI education. \n",
        "\n",
        "Join us for our next meetup where we will use all the skills introduced here and more to tackle and discuss tactics for tackling some of the most interesting machine learning problems of all time!"
      ]
    },
    {
      "cell_type": "code",
      "metadata": {
        "id": "_HVl6iTJJ5n2",
        "colab_type": "code",
        "colab": {}
      },
      "source": [
        ""
      ],
      "execution_count": 0,
      "outputs": []
    }
  ]
}